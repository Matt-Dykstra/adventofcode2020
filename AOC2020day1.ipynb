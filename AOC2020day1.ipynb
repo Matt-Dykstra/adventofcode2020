{
 "cells": [
  {
   "cell_type": "code",
   "execution_count": 1,
   "metadata": {},
   "outputs": [],
   "source": [
    "import pandas as pd\n",
    "import numpy as np\n",
    "from itertools import combinations"
   ]
  },
  {
   "cell_type": "code",
   "execution_count": 2,
   "metadata": {
    "scrolled": true
   },
   "outputs": [
    {
     "data": {
      "text/html": [
       "<div>\n",
       "<style scoped>\n",
       "    .dataframe tbody tr th:only-of-type {\n",
       "        vertical-align: middle;\n",
       "    }\n",
       "\n",
       "    .dataframe tbody tr th {\n",
       "        vertical-align: top;\n",
       "    }\n",
       "\n",
       "    .dataframe thead th {\n",
       "        text-align: right;\n",
       "    }\n",
       "</style>\n",
       "<table border=\"1\" class=\"dataframe\">\n",
       "  <thead>\n",
       "    <tr style=\"text-align: right;\">\n",
       "      <th></th>\n",
       "      <th>expense</th>\n",
       "    </tr>\n",
       "  </thead>\n",
       "  <tbody>\n",
       "    <tr>\n",
       "      <th>0</th>\n",
       "      <td>1883</td>\n",
       "    </tr>\n",
       "    <tr>\n",
       "      <th>1</th>\n",
       "      <td>1543</td>\n",
       "    </tr>\n",
       "    <tr>\n",
       "      <th>2</th>\n",
       "      <td>1801</td>\n",
       "    </tr>\n",
       "    <tr>\n",
       "      <th>3</th>\n",
       "      <td>1731</td>\n",
       "    </tr>\n",
       "    <tr>\n",
       "      <th>4</th>\n",
       "      <td>1070</td>\n",
       "    </tr>\n",
       "    <tr>\n",
       "      <th>5</th>\n",
       "      <td>1631</td>\n",
       "    </tr>\n",
       "    <tr>\n",
       "      <th>6</th>\n",
       "      <td>1490</td>\n",
       "    </tr>\n",
       "    <tr>\n",
       "      <th>7</th>\n",
       "      <td>1179</td>\n",
       "    </tr>\n",
       "    <tr>\n",
       "      <th>8</th>\n",
       "      <td>1098</td>\n",
       "    </tr>\n",
       "    <tr>\n",
       "      <th>9</th>\n",
       "      <td>1582</td>\n",
       "    </tr>\n",
       "  </tbody>\n",
       "</table>\n",
       "</div>"
      ],
      "text/plain": [
       "   expense\n",
       "0     1883\n",
       "1     1543\n",
       "2     1801\n",
       "3     1731\n",
       "4     1070\n",
       "5     1631\n",
       "6     1490\n",
       "7     1179\n",
       "8     1098\n",
       "9     1582"
      ]
     },
     "execution_count": 2,
     "metadata": {},
     "output_type": "execute_result"
    }
   ],
   "source": [
    "df = pd.read_csv('C:/Users/mtdyk/Documents/advent_of_code/aoc_2020_day_1_input.csv')\n",
    "df.head(10)"
   ]
  },
  {
   "cell_type": "code",
   "execution_count": 52,
   "metadata": {},
   "outputs": [
    {
     "name": "stdout",
     "output_type": "stream",
     "text": [
      "[1883, 1543, 1801, 1731, 1070, 1631, 1490, 1179, 1098, 1582, 1717, 1830, 1408, 1524, 889, 985, 2005, 1540, 1085, 1607, 1518, 1993, 1496, 1537, 1514, 1719, 1218, 1420, 1027, 1339, 1430, 989, 1613, 1970, 1227, 1082, 1079, 1068, 1674, 1186, 1744, 1297, 1467, 1647, 1141, 1825, 1759, 1395, 1596, 1405, 1844, 1461, 1762, 1122, 1173, 1838, 1983, 1632, 1995, 1245, 1454, 1120, 1671, 1526, 1572, 1929, 1642, 1864, 1351, 1155, 1885, 1226, 1810, 1252, 1061, 1882, 2002, 1627, 1128, 1575, 1750, 1046, 1767, 1270, 1037, 1198, 1942, 1074, 1820, 1301, 1382, 1687, 1824, 1996, 1704, 1051, 1546, 1431, 1102, 1041, 1547, 1202, 1875, 1800, 1433, 1901, 1165, 1151, 1785, 1903, 1278, 1185, 1940, 1935, 1479, 1495, 719, 1683, 1972, 1483, 1589, 1636, 1055, 1317, 1530, 1990, 1099, 1697, 1286, 1089, 1136, 1383, 1802, 1618, 1050, 1980, 1279, 1777, 1635, 1721, 1660, 1569, 1554, 1432, 1695, 1551, 1601, 1263, 1866, 1998, 1466, 1205, 1445, 1578, 1267, 1873, 1610, 1900, 1192, 1827, 1305, 1528, 1140, 1440, 1269, 1748, 1187, 52, 1149, 1603, 1033, 1650, 1045, 1345, 1710, 1955, 1891, 1392, 1870, 1357, 1197, 1087, 1690, 1090, 622, 1590, 1304, 1533, 1971, 1959, 1842, 1172, 1653, 1093, 1299, 1203, 1119, 1193, 1223, 1291]\n",
      "[]\n",
      "[]\n"
     ]
    }
   ],
   "source": [
    "year = 2020\n",
    "list1 = df['expense'].tolist()\n",
    "results1 = []\n",
    "results2 = []\n",
    "print(list1)\n",
    "print(results1)\n",
    "print(results2)"
   ]
  },
  {
   "cell_type": "code",
   "execution_count": 14,
   "metadata": {},
   "outputs": [
    {
     "name": "stdout",
     "output_type": "stream",
     "text": [
      "[(1301, 719)]\n"
     ]
    }
   ],
   "source": [
    "def find2020(list1, year):\n",
    "    return [pair for pair in combinations(list1, 2) if sum(pair) == year] \n",
    "print(find2020(list1, year))"
   ]
  },
  {
   "cell_type": "code",
   "execution_count": 33,
   "metadata": {},
   "outputs": [
    {
     "name": "stdout",
     "output_type": "stream",
     "text": [
      "[[(1301, 719)]]\n"
     ]
    }
   ],
   "source": [
    "results1.append(find2020(list1, year))\n",
    "print(results1)"
   ]
  },
  {
   "cell_type": "code",
   "execution_count": 40,
   "metadata": {},
   "outputs": [
    {
     "name": "stdout",
     "output_type": "stream",
     "text": [
      "935419\n"
     ]
    }
   ],
   "source": [
    "answer1 = np.prod(results1)\n",
    "print(answer1)"
   ]
  },
  {
   "cell_type": "code",
   "execution_count": 49,
   "metadata": {},
   "outputs": [
    {
     "name": "stdout",
     "output_type": "stream",
     "text": [
      "[(889, 1079, 52)]\n"
     ]
    }
   ],
   "source": [
    "def find2(list1, year):\n",
    "    return [triplet for triplet in combinations(list1, 3) if sum(triplet) == year] \n",
    "print(find2(list1, year))"
   ]
  },
  {
   "cell_type": "code",
   "execution_count": 53,
   "metadata": {},
   "outputs": [
    {
     "name": "stdout",
     "output_type": "stream",
     "text": [
      "[[(889, 1079, 52)]]\n",
      "49880012\n"
     ]
    }
   ],
   "source": [
    "results2.append(find2(list1, year))\n",
    "print(results2)\n",
    "answer2 = np.prod(results2)\n",
    "print(answer2)"
   ]
  },
  {
   "cell_type": "code",
   "execution_count": null,
   "metadata": {},
   "outputs": [],
   "source": []
  }
 ],
 "metadata": {
  "kernelspec": {
   "display_name": "env",
   "language": "python",
   "name": "env"
  },
  "language_info": {
   "codemirror_mode": {
    "name": "ipython",
    "version": 3
   },
   "file_extension": ".py",
   "mimetype": "text/x-python",
   "name": "python",
   "nbconvert_exporter": "python",
   "pygments_lexer": "ipython3",
   "version": "3.8.1"
  }
 },
 "nbformat": 4,
 "nbformat_minor": 2
}
